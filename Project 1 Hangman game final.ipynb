{
 "cells": [
  {
   "cell_type": "code",
   "execution_count": 1,
   "metadata": {
    "id": "q4btNv_oEzIt"
   },
   "outputs": [],
   "source": [
    "def player_guess_letter(x,y,z):\n",
    "  \n",
    "    import re\n",
    "      #x=letter, or user_input\n",
    "      #y=word to guess, never changes\n",
    "      #z=the guess, to be updated by the function\n",
    "        matches=re.finditer(x,y)\n",
    "        matches_position=[match.start() for match in matches]\n",
    "\n",
    "        for i in matches_position:\n",
    "            z = z[:i] + x + z[i+1:]\n",
    "\n",
    "        return z\n"
   ]
  },
  {
   "cell_type": "markdown",
   "metadata": {
    "id": "fRn7jtY59sxK"
   },
   "source": [
    "1)Player 1 and Player 2 input their names and the program randomly picks up one as the HOST and one as the PLAYER\n"
   ]
  },
  {
   "cell_type": "code",
   "execution_count": 8,
   "metadata": {
    "colab": {
     "base_uri": "https://localhost:8080/"
    },
    "id": "xJCjdNJIK0aM",
    "outputId": "edb84b69-ba22-46aa-bc20-5c117008ddcb"
   },
   "outputs": [
    {
     "name": "stdout",
     "output_type": "stream",
     "text": [
      "Player One, please input your name: dnai\n",
      "Player Two, please input your name: dls\n",
      "dnai is the HOST  dls is the PLAYER\n",
      "dnai, you are the HOST! Please input the word you want the player to find! coucou\n"
     ]
    }
   ],
   "source": [
    "import random\n",
    "\n",
    "players=[]\n",
    "player1=input('Player One, please input your name: ')\n",
    "player2=input('Player Two, please input your name: ')\n",
    "players.append(player1)\n",
    "players.append(player2)\n",
    "\n",
    "host=random.choice(players)\n",
    "\n",
    "if host==player1:\n",
    "      print(player1,\"is the HOST \",player2,\"is the PLAYER\")\n",
    "\n",
    "else:\n",
    "      print(player2,\"is the HOST \",player1,\"is the PLAYER\")\n",
    "\n",
    "word=input(f'{host}, you are the HOST! Please input the word you want the player to find! ')"
   ]
  },
  {
   "cell_type": "code",
   "execution_count": 13,
   "metadata": {
    "colab": {
     "base_uri": "https://localhost:8080/",
     "height": 429
    },
    "id": "EfX86VyAzGNJ",
    "outputId": "d729ba73-175b-4452-9be8-b19756d66f47"
   },
   "outputs": [
    {
     "name": "stdout",
     "output_type": "stream",
     "text": [
      "You have to guess ------, a 6-letter word\n",
      "Please input your guess:  c\n",
      "c--c--. Please input your next guess.You have 10 trials left! o\n",
      "co-co-. Please input your next guess.You have 10 trials left! u\n",
      "Congratulations! You win! You had to guess coucou\n"
     ]
    }
   ],
   "source": [
    "guess='-'*len(word)\n",
    "print(f'You have to guess {guess}, a {len(word)}-letter word')\n",
    "trials=0\n",
    "letter=input(f'Please input your guess: ')\n",
    "guess=player_guess_letter(letter,word,guess)\n",
    "\n",
    "while guess!=word:\n",
    "    if trials==9:\n",
    "        print('You are to be hanged, burn in hell!')\n",
    "        break\n",
    "    elif len(letter)>1:\n",
    "        print('Your input must be 1 single letter at a time!')\n",
    "        letter=input(f'{guess}. Please input your next guess. You have {10-trials} trials left! ')\n",
    "    else:\n",
    "        if letter not in [i for i in word]:\n",
    "            trials+=1\n",
    "            letter=input(f'{guess}. Please input your next guess. You have {10-trials} trials left! ')\n",
    "        else:\n",
    "            guess=player_guess_letter(letter,word,guess)\n",
    "            if guess==word:\n",
    "                print(f'Congratulations! You win! You had to guess {word}')\n",
    "                break\n",
    "            else:\n",
    "                letter=input(f'{guess}. Please input your next guess.You have {10-trials} trials left! ')\n",
    "\n",
    "\n",
    "   \n",
    "    \n",
    "\n",
    "    "
   ]
  },
  {
   "cell_type": "code",
   "execution_count": null,
   "metadata": {},
   "outputs": [],
   "source": []
  },
  {
   "cell_type": "raw",
   "metadata": {},
   "source": []
  },
  {
   "cell_type": "code",
   "execution_count": null,
   "metadata": {},
   "outputs": [],
   "source": []
  },
  {
   "cell_type": "code",
   "execution_count": null,
   "metadata": {},
   "outputs": [],
   "source": []
  }
 ],
 "metadata": {
  "colab": {
   "collapsed_sections": [],
   "name": "Hangman Project.ipynb  copy",
   "provenance": []
  },
  "kernelspec": {
   "display_name": "Python 3",
   "language": "python",
   "name": "python3"
  },
  "language_info": {
   "codemirror_mode": {
    "name": "ipython",
    "version": 3
   },
   "file_extension": ".py",
   "mimetype": "text/x-python",
   "name": "python",
   "nbconvert_exporter": "python",
   "pygments_lexer": "ipython3",
   "version": "3.8.8"
  }
 },
 "nbformat": 4,
 "nbformat_minor": 1
}
